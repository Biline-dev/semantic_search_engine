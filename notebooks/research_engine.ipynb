{
 "cells": [
  {
   "cell_type": "markdown",
   "metadata": {},
   "source": [
    "## Prepare the data"
   ]
  },
  {
   "cell_type": "code",
   "execution_count": null,
   "metadata": {},
   "outputs": [],
   "source": [
    "import pandas as pd\n",
    "import numpy as np"
   ]
  },
  {
   "cell_type": "code",
   "execution_count": 97,
   "metadata": {},
   "outputs": [
    {
     "data": {
      "text/html": [
       "<div>\n",
       "<style scoped>\n",
       "    .dataframe tbody tr th:only-of-type {\n",
       "        vertical-align: middle;\n",
       "    }\n",
       "\n",
       "    .dataframe tbody tr th {\n",
       "        vertical-align: top;\n",
       "    }\n",
       "\n",
       "    .dataframe thead th {\n",
       "        text-align: right;\n",
       "    }\n",
       "</style>\n",
       "<table border=\"1\" class=\"dataframe\">\n",
       "  <thead>\n",
       "    <tr style=\"text-align: right;\">\n",
       "      <th></th>\n",
       "      <th>Release Year</th>\n",
       "      <th>Title</th>\n",
       "      <th>Origin/Ethnicity</th>\n",
       "      <th>Director</th>\n",
       "      <th>Cast</th>\n",
       "      <th>Genre</th>\n",
       "      <th>Wiki Page</th>\n",
       "      <th>Plot</th>\n",
       "    </tr>\n",
       "  </thead>\n",
       "  <tbody>\n",
       "    <tr>\n",
       "      <th>0</th>\n",
       "      <td>1901</td>\n",
       "      <td>Kansas Saloon Smashers</td>\n",
       "      <td>American</td>\n",
       "      <td>Unknown</td>\n",
       "      <td>NaN</td>\n",
       "      <td>unknown</td>\n",
       "      <td>https://en.wikipedia.org/wiki/Kansas_Saloon_Sm...</td>\n",
       "      <td>A bartender is working at a saloon, serving dr...</td>\n",
       "    </tr>\n",
       "    <tr>\n",
       "      <th>1</th>\n",
       "      <td>1901</td>\n",
       "      <td>Love by the Light of the Moon</td>\n",
       "      <td>American</td>\n",
       "      <td>Unknown</td>\n",
       "      <td>NaN</td>\n",
       "      <td>unknown</td>\n",
       "      <td>https://en.wikipedia.org/wiki/Love_by_the_Ligh...</td>\n",
       "      <td>The moon, painted with a smiling face hangs ov...</td>\n",
       "    </tr>\n",
       "    <tr>\n",
       "      <th>2</th>\n",
       "      <td>1901</td>\n",
       "      <td>The Martyred Presidents</td>\n",
       "      <td>American</td>\n",
       "      <td>Unknown</td>\n",
       "      <td>NaN</td>\n",
       "      <td>unknown</td>\n",
       "      <td>https://en.wikipedia.org/wiki/The_Martyred_Pre...</td>\n",
       "      <td>The film, just over a minute long, is composed...</td>\n",
       "    </tr>\n",
       "    <tr>\n",
       "      <th>3</th>\n",
       "      <td>1901</td>\n",
       "      <td>Terrible Teddy, the Grizzly King</td>\n",
       "      <td>American</td>\n",
       "      <td>Unknown</td>\n",
       "      <td>NaN</td>\n",
       "      <td>unknown</td>\n",
       "      <td>https://en.wikipedia.org/wiki/Terrible_Teddy,_...</td>\n",
       "      <td>Lasting just 61 seconds and consisting of two ...</td>\n",
       "    </tr>\n",
       "    <tr>\n",
       "      <th>4</th>\n",
       "      <td>1902</td>\n",
       "      <td>Jack and the Beanstalk</td>\n",
       "      <td>American</td>\n",
       "      <td>George S. Fleming, Edwin S. Porter</td>\n",
       "      <td>NaN</td>\n",
       "      <td>unknown</td>\n",
       "      <td>https://en.wikipedia.org/wiki/Jack_and_the_Bea...</td>\n",
       "      <td>The earliest known adaptation of the classic f...</td>\n",
       "    </tr>\n",
       "  </tbody>\n",
       "</table>\n",
       "</div>"
      ],
      "text/plain": [
       "   Release Year                             Title Origin/Ethnicity  \\\n",
       "0          1901            Kansas Saloon Smashers         American   \n",
       "1          1901     Love by the Light of the Moon         American   \n",
       "2          1901           The Martyred Presidents         American   \n",
       "3          1901  Terrible Teddy, the Grizzly King         American   \n",
       "4          1902            Jack and the Beanstalk         American   \n",
       "\n",
       "                             Director Cast    Genre  \\\n",
       "0                             Unknown  NaN  unknown   \n",
       "1                             Unknown  NaN  unknown   \n",
       "2                             Unknown  NaN  unknown   \n",
       "3                             Unknown  NaN  unknown   \n",
       "4  George S. Fleming, Edwin S. Porter  NaN  unknown   \n",
       "\n",
       "                                           Wiki Page  \\\n",
       "0  https://en.wikipedia.org/wiki/Kansas_Saloon_Sm...   \n",
       "1  https://en.wikipedia.org/wiki/Love_by_the_Ligh...   \n",
       "2  https://en.wikipedia.org/wiki/The_Martyred_Pre...   \n",
       "3  https://en.wikipedia.org/wiki/Terrible_Teddy,_...   \n",
       "4  https://en.wikipedia.org/wiki/Jack_and_the_Bea...   \n",
       "\n",
       "                                                Plot  \n",
       "0  A bartender is working at a saloon, serving dr...  \n",
       "1  The moon, painted with a smiling face hangs ov...  \n",
       "2  The film, just over a minute long, is composed...  \n",
       "3  Lasting just 61 seconds and consisting of two ...  \n",
       "4  The earliest known adaptation of the classic f...  "
      ]
     },
     "execution_count": 97,
     "metadata": {},
     "output_type": "execute_result"
    }
   ],
   "source": [
    "df = pd.read_csv('../data/wiki_movie_plots_deduped.csv')\n",
    "df.head()"
   ]
  },
  {
   "cell_type": "code",
   "execution_count": 98,
   "metadata": {},
   "outputs": [],
   "source": [
    "df = df.drop(['Director'], axis=1)"
   ]
  },
  {
   "cell_type": "code",
   "execution_count": 99,
   "metadata": {},
   "outputs": [],
   "source": [
    "df = df.drop(['Cast'], axis=1)"
   ]
  },
  {
   "cell_type": "code",
   "execution_count": 100,
   "metadata": {},
   "outputs": [],
   "source": [
    "df = df.drop(['Wiki Page'], axis=1)"
   ]
  },
  {
   "cell_type": "code",
   "execution_count": 101,
   "metadata": {},
   "outputs": [],
   "source": [
    "df = df.drop(['Origin/Ethnicity'], axis=1)"
   ]
  },
  {
   "cell_type": "code",
   "execution_count": 102,
   "metadata": {},
   "outputs": [
    {
     "data": {
      "text/html": [
       "<div>\n",
       "<style scoped>\n",
       "    .dataframe tbody tr th:only-of-type {\n",
       "        vertical-align: middle;\n",
       "    }\n",
       "\n",
       "    .dataframe tbody tr th {\n",
       "        vertical-align: top;\n",
       "    }\n",
       "\n",
       "    .dataframe thead th {\n",
       "        text-align: right;\n",
       "    }\n",
       "</style>\n",
       "<table border=\"1\" class=\"dataframe\">\n",
       "  <thead>\n",
       "    <tr style=\"text-align: right;\">\n",
       "      <th></th>\n",
       "      <th>release_year</th>\n",
       "      <th>title</th>\n",
       "      <th>genre</th>\n",
       "      <th>plot</th>\n",
       "    </tr>\n",
       "  </thead>\n",
       "  <tbody>\n",
       "    <tr>\n",
       "      <th>0</th>\n",
       "      <td>1901</td>\n",
       "      <td>Kansas Saloon Smashers</td>\n",
       "      <td>unknown</td>\n",
       "      <td>A bartender is working at a saloon, serving dr...</td>\n",
       "    </tr>\n",
       "    <tr>\n",
       "      <th>1</th>\n",
       "      <td>1901</td>\n",
       "      <td>Love by the Light of the Moon</td>\n",
       "      <td>unknown</td>\n",
       "      <td>The moon, painted with a smiling face hangs ov...</td>\n",
       "    </tr>\n",
       "    <tr>\n",
       "      <th>2</th>\n",
       "      <td>1901</td>\n",
       "      <td>The Martyred Presidents</td>\n",
       "      <td>unknown</td>\n",
       "      <td>The film, just over a minute long, is composed...</td>\n",
       "    </tr>\n",
       "    <tr>\n",
       "      <th>3</th>\n",
       "      <td>1901</td>\n",
       "      <td>Terrible Teddy, the Grizzly King</td>\n",
       "      <td>unknown</td>\n",
       "      <td>Lasting just 61 seconds and consisting of two ...</td>\n",
       "    </tr>\n",
       "    <tr>\n",
       "      <th>4</th>\n",
       "      <td>1902</td>\n",
       "      <td>Jack and the Beanstalk</td>\n",
       "      <td>unknown</td>\n",
       "      <td>The earliest known adaptation of the classic f...</td>\n",
       "    </tr>\n",
       "  </tbody>\n",
       "</table>\n",
       "</div>"
      ],
      "text/plain": [
       "   release_year                             title    genre  \\\n",
       "0          1901            Kansas Saloon Smashers  unknown   \n",
       "1          1901     Love by the Light of the Moon  unknown   \n",
       "2          1901           The Martyred Presidents  unknown   \n",
       "3          1901  Terrible Teddy, the Grizzly King  unknown   \n",
       "4          1902            Jack and the Beanstalk  unknown   \n",
       "\n",
       "                                                plot  \n",
       "0  A bartender is working at a saloon, serving dr...  \n",
       "1  The moon, painted with a smiling face hangs ov...  \n",
       "2  The film, just over a minute long, is composed...  \n",
       "3  Lasting just 61 seconds and consisting of two ...  \n",
       "4  The earliest known adaptation of the classic f...  "
      ]
     },
     "execution_count": 102,
     "metadata": {},
     "output_type": "execute_result"
    }
   ],
   "source": [
    "df = df.rename(columns={\"Release Year\": \"release_year\", \"Title\": \"title\", \"Genre\": \"genre\", \"Plot\": \"plot\"})\n",
    "df.head()"
   ]
  },
  {
   "cell_type": "code",
   "execution_count": 103,
   "metadata": {},
   "outputs": [
    {
     "data": {
      "text/plain": [
       "unknown                          6083\n",
       "drama                            5964\n",
       "comedy                           4379\n",
       "horror                           1167\n",
       "action                           1098\n",
       "                                 ... \n",
       "cbc-tv miniseries                   1\n",
       "bio-drama                           1\n",
       "national film board docudrama       1\n",
       "cult drama                          1\n",
       "horror romantic comedy              1\n",
       "Name: genre, Length: 2265, dtype: int64"
      ]
     },
     "execution_count": 103,
     "metadata": {},
     "output_type": "execute_result"
    }
   ],
   "source": [
    "category_counts = df['genre'].value_counts()\n",
    "category_counts"
   ]
  },
  {
   "cell_type": "code",
   "execution_count": 104,
   "metadata": {},
   "outputs": [
    {
     "data": {
      "text/plain": [
       "2013    1021\n",
       "2014     929\n",
       "2012     874\n",
       "2011     858\n",
       "2010     825\n",
       "        ... \n",
       "1906       3\n",
       "1905       2\n",
       "1903       2\n",
       "1904       1\n",
       "1902       1\n",
       "Name: release_year, Length: 117, dtype: int64"
      ]
     },
     "execution_count": 104,
     "metadata": {},
     "output_type": "execute_result"
    }
   ],
   "source": [
    "category_counts = df['release_year'].value_counts()\n",
    "category_counts"
   ]
  },
  {
   "cell_type": "code",
   "execution_count": 105,
   "metadata": {},
   "outputs": [
    {
     "data": {
      "text/html": [
       "<div>\n",
       "<style scoped>\n",
       "    .dataframe tbody tr th:only-of-type {\n",
       "        vertical-align: middle;\n",
       "    }\n",
       "\n",
       "    .dataframe tbody tr th {\n",
       "        vertical-align: top;\n",
       "    }\n",
       "\n",
       "    .dataframe thead th {\n",
       "        text-align: right;\n",
       "    }\n",
       "</style>\n",
       "<table border=\"1\" class=\"dataframe\">\n",
       "  <thead>\n",
       "    <tr style=\"text-align: right;\">\n",
       "      <th></th>\n",
       "      <th>release_year</th>\n",
       "      <th>title</th>\n",
       "      <th>genre</th>\n",
       "      <th>plot</th>\n",
       "      <th>year_genre</th>\n",
       "    </tr>\n",
       "  </thead>\n",
       "  <tbody>\n",
       "    <tr>\n",
       "      <th>0</th>\n",
       "      <td>1901</td>\n",
       "      <td>Kansas Saloon Smashers</td>\n",
       "      <td>unknown</td>\n",
       "      <td>A bartender is working at a saloon, serving dr...</td>\n",
       "      <td>(1901, unknown)</td>\n",
       "    </tr>\n",
       "    <tr>\n",
       "      <th>1</th>\n",
       "      <td>1901</td>\n",
       "      <td>Love by the Light of the Moon</td>\n",
       "      <td>unknown</td>\n",
       "      <td>The moon, painted with a smiling face hangs ov...</td>\n",
       "      <td>(1901, unknown)</td>\n",
       "    </tr>\n",
       "    <tr>\n",
       "      <th>2</th>\n",
       "      <td>1901</td>\n",
       "      <td>The Martyred Presidents</td>\n",
       "      <td>unknown</td>\n",
       "      <td>The film, just over a minute long, is composed...</td>\n",
       "      <td>(1901, unknown)</td>\n",
       "    </tr>\n",
       "    <tr>\n",
       "      <th>3</th>\n",
       "      <td>1901</td>\n",
       "      <td>Terrible Teddy, the Grizzly King</td>\n",
       "      <td>unknown</td>\n",
       "      <td>Lasting just 61 seconds and consisting of two ...</td>\n",
       "      <td>(1901, unknown)</td>\n",
       "    </tr>\n",
       "    <tr>\n",
       "      <th>4</th>\n",
       "      <td>1902</td>\n",
       "      <td>Jack and the Beanstalk</td>\n",
       "      <td>unknown</td>\n",
       "      <td>The earliest known adaptation of the classic f...</td>\n",
       "      <td>(1902, unknown)</td>\n",
       "    </tr>\n",
       "  </tbody>\n",
       "</table>\n",
       "</div>"
      ],
      "text/plain": [
       "   release_year                             title    genre  \\\n",
       "0          1901            Kansas Saloon Smashers  unknown   \n",
       "1          1901     Love by the Light of the Moon  unknown   \n",
       "2          1901           The Martyred Presidents  unknown   \n",
       "3          1901  Terrible Teddy, the Grizzly King  unknown   \n",
       "4          1902            Jack and the Beanstalk  unknown   \n",
       "\n",
       "                                                plot       year_genre  \n",
       "0  A bartender is working at a saloon, serving dr...  (1901, unknown)  \n",
       "1  The moon, painted with a smiling face hangs ov...  (1901, unknown)  \n",
       "2  The film, just over a minute long, is composed...  (1901, unknown)  \n",
       "3  Lasting just 61 seconds and consisting of two ...  (1901, unknown)  \n",
       "4  The earliest known adaptation of the classic f...  (1902, unknown)  "
      ]
     },
     "execution_count": 105,
     "metadata": {},
     "output_type": "execute_result"
    }
   ],
   "source": [
    "# add new column so it can be used for the research\n",
    "\n",
    "df['year_genre'] = list(zip(df['release_year'], df['genre']))\n",
    "df.head()"
   ]
  },
  {
   "cell_type": "code",
   "execution_count": 9,
   "metadata": {},
   "outputs": [
    {
     "name": "stderr",
     "output_type": "stream",
     "text": [
      "Some weights of the model checkpoint at bert-base-uncased were not used when initializing BertModel: ['cls.predictions.transform.LayerNorm.bias', 'cls.predictions.transform.dense.bias', 'cls.predictions.decoder.weight', 'cls.predictions.bias', 'cls.predictions.transform.dense.weight', 'cls.predictions.transform.LayerNorm.weight', 'cls.seq_relationship.weight', 'cls.seq_relationship.bias']\n",
      "- This IS expected if you are initializing BertModel from the checkpoint of a model trained on another task or with another architecture (e.g. initializing a BertForSequenceClassification model from a BertForPreTraining model).\n",
      "- This IS NOT expected if you are initializing BertModel from the checkpoint of a model that you expect to be exactly identical (initializing a BertForSequenceClassification model from a BertForSequenceClassification model).\n"
     ]
    }
   ],
   "source": [
    "# text encoding steps\n",
    "\n",
    "from transformers import BertTokenizer, BertModel\n",
    "\n",
    "tokenizer = BertTokenizer.from_pretrained('bert-base-uncased')\n",
    "model = BertModel.from_pretrained(\"bert-base-uncased\")"
   ]
  },
  {
   "cell_type": "code",
   "execution_count": 107,
   "metadata": {},
   "outputs": [
    {
     "name": "stderr",
     "output_type": "stream",
     "text": [
      "100%|█████████████████████████████████████████████| 1/1 [00:00<00:00, 23.43it/s]\n"
     ]
    }
   ],
   "source": [
    "from tqdm import tqdm\n",
    "\n",
    "plots = list(df['plot'])  # A plot is a description of a movie\n",
    "\n",
    "batch_size = 100  # i choose a batch of a size equal to 100 to avoid RAM insufissance\n",
    "num_texts = len(plots)\n",
    "encoded_texts = []\n",
    "embeddings = []\n",
    "for i in tqdm(range(0, num_texts, batch_size)):\n",
    "    batch_texts = plots[i:i+batch_size]\n",
    "    encoded_batch = [tokenizer.encode(text, max_length=125, padding='max_length', truncation=True, add_special_tokens=True) for text in batch_texts]\n",
    "    encoded_texts.extend(encoded_batch)"
   ]
  },
  {
   "cell_type": "code",
   "execution_count": 109,
   "metadata": {},
   "outputs": [
    {
     "name": "stderr",
     "output_type": "stream",
     "text": [
      "100%|█████████████████████████████████████████████| 1/1 [00:01<00:00,  1.38s/it]\n"
     ]
    }
   ],
   "source": [
    "batch_size = 10 #i choose a batch size equal to 10 to avoid GPU insufissance\n",
    "\n",
    "\n",
    "# Convert the encoded texts to tensors\n",
    "input_ids = torch.tensor(encoded_texts)\n",
    "\n",
    "embeddings = []\n",
    "# Generate embeddings for the query and move it to the device\n",
    "model.eval()\n",
    "with torch.no_grad():\n",
    "  for i in tqdm(range(0, num_texts, batch_size)):\n",
    "      input_batch = input_ids[i:i+batch_size]\n",
    "      outputs = model(input_batch)\n",
    "      batch_embeddings = outputs.last_hidden_state.mean(dim=1)\n",
    "      embeddings.extend(batch_embeddings)\n"
   ]
  },
  {
   "cell_type": "code",
   "execution_count": 111,
   "metadata": {},
   "outputs": [],
   "source": [
    "list_embeddings = []\n",
    "\n",
    "for output in embeddings:\n",
    "    list_embeddings.append(output.detach().numpy())"
   ]
  },
  {
   "cell_type": "code",
   "execution_count": 114,
   "metadata": {},
   "outputs": [],
   "source": [
    "# add the encoded text into the data\n",
    "\n",
    "df['encoded_text'] = list_embeddings"
   ]
  },
  {
   "cell_type": "code",
   "execution_count": null,
   "metadata": {},
   "outputs": [],
   "source": [
    "np.save('../data/wiki_movie_plots_deduped_encoded.npy', df)"
   ]
  },
  {
   "cell_type": "markdown",
   "metadata": {},
   "source": [
    "## Load encoded dataset"
   ]
  },
  {
   "cell_type": "code",
   "execution_count": 3,
   "metadata": {},
   "outputs": [],
   "source": [
    "# Load the .npy file\n",
    "data = np.load('../data/wiki_movie_plots_deduped_encoded.npy', allow_pickle=True)\n",
    "\n",
    "# Convert the data back to a dataframe\n",
    "df = pd.DataFrame(data)"
   ]
  },
  {
   "cell_type": "code",
   "execution_count": 4,
   "metadata": {},
   "outputs": [],
   "source": [
    "df.columns = [\"release_year\", \"title\", \"genre\", \"plots\", \"year_genre\", \"encoded_text\"]"
   ]
  },
  {
   "cell_type": "code",
   "execution_count": 5,
   "metadata": {},
   "outputs": [
    {
     "data": {
      "text/html": [
       "<div>\n",
       "<style scoped>\n",
       "    .dataframe tbody tr th:only-of-type {\n",
       "        vertical-align: middle;\n",
       "    }\n",
       "\n",
       "    .dataframe tbody tr th {\n",
       "        vertical-align: top;\n",
       "    }\n",
       "\n",
       "    .dataframe thead th {\n",
       "        text-align: right;\n",
       "    }\n",
       "</style>\n",
       "<table border=\"1\" class=\"dataframe\">\n",
       "  <thead>\n",
       "    <tr style=\"text-align: right;\">\n",
       "      <th></th>\n",
       "      <th>release_year</th>\n",
       "      <th>title</th>\n",
       "      <th>genre</th>\n",
       "      <th>plots</th>\n",
       "      <th>year_genre</th>\n",
       "      <th>encoded_text</th>\n",
       "    </tr>\n",
       "  </thead>\n",
       "  <tbody>\n",
       "    <tr>\n",
       "      <th>0</th>\n",
       "      <td>1901</td>\n",
       "      <td>Kansas Saloon Smashers</td>\n",
       "      <td>unknown</td>\n",
       "      <td>A bartender is working at a saloon, serving dr...</td>\n",
       "      <td>(1901, unknown)</td>\n",
       "      <td>[-0.06952393, 0.21627466, 0.19784085, -0.29264...</td>\n",
       "    </tr>\n",
       "    <tr>\n",
       "      <th>1</th>\n",
       "      <td>1901</td>\n",
       "      <td>Love by the Light of the Moon</td>\n",
       "      <td>unknown</td>\n",
       "      <td>The moon, painted with a smiling face hangs ov...</td>\n",
       "      <td>(1901, unknown)</td>\n",
       "      <td>[-0.089487724, -0.17200117, 0.5052035, -0.0962...</td>\n",
       "    </tr>\n",
       "    <tr>\n",
       "      <th>2</th>\n",
       "      <td>1901</td>\n",
       "      <td>The Martyred Presidents</td>\n",
       "      <td>unknown</td>\n",
       "      <td>The film, just over a minute long, is composed...</td>\n",
       "      <td>(1901, unknown)</td>\n",
       "      <td>[-0.13208406, -0.05472481, 0.245642, -0.036767...</td>\n",
       "    </tr>\n",
       "    <tr>\n",
       "      <th>3</th>\n",
       "      <td>1901</td>\n",
       "      <td>Terrible Teddy, the Grizzly King</td>\n",
       "      <td>unknown</td>\n",
       "      <td>Lasting just 61 seconds and consisting of two ...</td>\n",
       "      <td>(1901, unknown)</td>\n",
       "      <td>[-0.1028006, 0.3138553, 0.08195516, -0.1730907...</td>\n",
       "    </tr>\n",
       "    <tr>\n",
       "      <th>4</th>\n",
       "      <td>1902</td>\n",
       "      <td>Jack and the Beanstalk</td>\n",
       "      <td>unknown</td>\n",
       "      <td>The earliest known adaptation of the classic f...</td>\n",
       "      <td>(1902, unknown)</td>\n",
       "      <td>[-0.23109181, 0.056910552, 0.29452863, -0.2051...</td>\n",
       "    </tr>\n",
       "  </tbody>\n",
       "</table>\n",
       "</div>"
      ],
      "text/plain": [
       "  release_year                             title    genre  \\\n",
       "0         1901            Kansas Saloon Smashers  unknown   \n",
       "1         1901     Love by the Light of the Moon  unknown   \n",
       "2         1901           The Martyred Presidents  unknown   \n",
       "3         1901  Terrible Teddy, the Grizzly King  unknown   \n",
       "4         1902            Jack and the Beanstalk  unknown   \n",
       "\n",
       "                                               plots       year_genre  \\\n",
       "0  A bartender is working at a saloon, serving dr...  (1901, unknown)   \n",
       "1  The moon, painted with a smiling face hangs ov...  (1901, unknown)   \n",
       "2  The film, just over a minute long, is composed...  (1901, unknown)   \n",
       "3  Lasting just 61 seconds and consisting of two ...  (1901, unknown)   \n",
       "4  The earliest known adaptation of the classic f...  (1902, unknown)   \n",
       "\n",
       "                                        encoded_text  \n",
       "0  [-0.06952393, 0.21627466, 0.19784085, -0.29264...  \n",
       "1  [-0.089487724, -0.17200117, 0.5052035, -0.0962...  \n",
       "2  [-0.13208406, -0.05472481, 0.245642, -0.036767...  \n",
       "3  [-0.1028006, 0.3138553, 0.08195516, -0.1730907...  \n",
       "4  [-0.23109181, 0.056910552, 0.29452863, -0.2051...  "
      ]
     },
     "execution_count": 5,
     "metadata": {},
     "output_type": "execute_result"
    }
   ],
   "source": [
    "df.head()"
   ]
  },
  {
   "cell_type": "code",
   "execution_count": 39,
   "metadata": {},
   "outputs": [],
   "source": [
    "import numpy as np\n",
    "\n",
    "from scipy.spatial.distance import cdist\n",
    "\n",
    "\n",
    "def calculte_simalarity(filtered_df, query, k):\n",
    "    \n",
    "    desired_columns = ['title', 'release_year', 'genre']\n",
    "    \n",
    "    if query!= None:\n",
    "    \n",
    "        encoded_input = tokenizer.encode(query,  max_length=125, padding='max_length', truncation=True, return_tensors='pt')\n",
    "        output = model(encoded_input)\n",
    "        embedding_query = output.last_hidden_state.mean(dim=1).detach().numpy()\n",
    "        \n",
    "        # Convert text embeddings to a numpy array\n",
    "        texts_encoded = list(filtered_df['encoded_text'])\n",
    "        text_embeddings = np.array(texts_encoded)\n",
    "        \n",
    "        similarities = 1 - cdist(text_embeddings, embedding_query, metric='cosine').flatten()\n",
    "        filtered_df['similarities'] = similarities\n",
    "        filtered_df = filtered_df.nlargest(k, 'similarities')\n",
    "    \n",
    "        return filtered_df[desired_columns]\n",
    "    \n",
    "    else: \n",
    "        return filtered_df[desired_columns]\n",
    "    "
   ]
  },
  {
   "cell_type": "code",
   "execution_count": 40,
   "metadata": {},
   "outputs": [],
   "source": [
    "def filter_data(data = df, k=5, genre = None, release_year = None, query = None):\n",
    "    \n",
    "    list_years = list(data['release_year'].unique())\n",
    "    list_genre = list(data['genre'].unique())\n",
    "    \n",
    "    if release_year != None:  \n",
    "        if release_year in list_years:\n",
    "            if genre != None:\n",
    "                if genre in list_genre:\n",
    "                    ### case one 1 : both genre and release_year present, we search (release_year, genre)\n",
    "                    filtered_df = data[data['year_genre'] == (release_year, genre)]\n",
    "                    return calculte_simalarity(filtered_df, query,  k)\n",
    "                else:\n",
    "                    raise Exception(\"Genre not found\")\n",
    "            else:\n",
    "                ### case one 3 : genre absent and release_year present, we search (release_year, all)\n",
    "                filtered_df = data[data['release_year'] == release_year]\n",
    "                return calculte_simalarity(filtered_df, query,  k)   \n",
    "        else:\n",
    "            raise Exception(\"Year not found\")   \n",
    "    else:\n",
    "        if genre != None:\n",
    "            if genre in list_genre:\n",
    "                ### case one 2 : genre present and release_year absent, we search (all, genre)\n",
    "                filtered_df = data[data['genre'] == genre]\n",
    "                return calculte_simalarity(filtered_df, query,  k)\n",
    "            else:\n",
    "                raise Exception(\"Genre not found\")\n",
    "        else:\n",
    "            ### case one 4 : genre absent and release_year absent, we search (all, all)\n",
    "            filtered_df = data\n",
    "            return calculte_simalarity(filtered_df, query,  k) \n"
   ]
  },
  {
   "cell_type": "code",
   "execution_count": 41,
   "metadata": {},
   "outputs": [],
   "source": [
    "new_data = filter_data(data = df, k=4, query = \"a movie about two people who have a toxic relationship\")"
   ]
  },
  {
   "cell_type": "code",
   "execution_count": 42,
   "metadata": {},
   "outputs": [
    {
     "data": {
      "text/plain": [
       "{'movie 26': {'Title': 'The Lure of the Gown',\n",
       "  'year': 1909,\n",
       "  'genre': 'unknown'},\n",
       " 'movie 25205': {'Title': 'Haathkadi',\n",
       "  'year': 1982,\n",
       "  'genre': 'family, thriller, drama'},\n",
       " 'movie 17609': {'Title': 'Deadly', 'year': 1991, 'genre': 'crime'},\n",
       " 'movie 7607': {'Title': 'Heaven and Earth Magic',\n",
       "  'year': 1962,\n",
       "  'genre': 'animated'}}"
      ]
     },
     "execution_count": 42,
     "metadata": {},
     "output_type": "execute_result"
    }
   ],
   "source": [
    "import json\n",
    "\n",
    "suggestions_dict = {}\n",
    "\n",
    "for index, row in new_data.iterrows():\n",
    "    suggestion_key = f\"movie {index + 1}\"\n",
    "    suggestion_value = {\n",
    "        \"Title\": row['title'],\n",
    "        \"year\": row['release_year'],\n",
    "        \"genre\": row['genre']\n",
    "    }\n",
    "    suggestions_dict[suggestion_key] = suggestion_value\n",
    "\n",
    "json_data = json.dumps(suggestions_dict, indent=2)\n",
    "suggestions_dict"
   ]
  },
  {
   "cell_type": "code",
   "execution_count": null,
   "metadata": {},
   "outputs": [],
   "source": []
  }
 ],
 "metadata": {
  "kernelspec": {
   "display_name": "Python 3 (ipykernel)",
   "language": "python",
   "name": "python3"
  },
  "language_info": {
   "codemirror_mode": {
    "name": "ipython",
    "version": 3
   },
   "file_extension": ".py",
   "mimetype": "text/x-python",
   "name": "python",
   "nbconvert_exporter": "python",
   "pygments_lexer": "ipython3",
   "version": "3.8.10"
  }
 },
 "nbformat": 4,
 "nbformat_minor": 2
}
